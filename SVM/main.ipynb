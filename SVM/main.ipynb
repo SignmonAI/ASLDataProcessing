{
 "cells": [
  {
   "cell_type": "code",
   "execution_count": 1,
   "metadata": {},
   "outputs": [],
   "source": [
    "from sklearn.linear_model import SGDClassifier\n",
    "from sklearn.preprocessing import LabelEncoder\n",
    "import pandas as pd\n",
    "import joblib\n",
    "import cv2\n",
    "from pathlib import Path\n",
    "import mediapipe as mp"
   ]
  },
  {
   "cell_type": "code",
   "execution_count": null,
   "metadata": {},
   "outputs": [],
   "source": [
    "model = SGDClassifier(loss='hinge')\n",
    "label_encoder = LabelEncoder()\n",
    "df = pd.read_csv('asl_landmarks.csv')\n",
    "\n",
    "X = df.drop('Label', axis=1)\n",
    "y = label_encoder.fit_transform(df[\"Label\"])\n",
    "model.fit(X, y)\n",
    "\n",
    "joblib.dump(model, \"svm_model.pkl\")\n",
    "joblib.dump(label_encoder, \"label-encoder.pkl\")"
   ]
  },
  {
   "cell_type": "code",
   "execution_count": 2,
   "metadata": {},
   "outputs": [],
   "source": [
    "def get_img():\n",
    "    path = Path(\"../Image\")\n",
    "\n",
    "    for file in path.glob(\"*\"):\n",
    "        if file.is_file():\n",
    "            return str(file)\n",
    "        \n",
    "    return None"
   ]
  },
  {
   "cell_type": "code",
   "execution_count": 3,
   "metadata": {},
   "outputs": [
    {
     "name": "stdout",
     "output_type": "stream",
     "text": [
      "The predicted letter is: G\n"
     ]
    },
    {
     "name": "stderr",
     "output_type": "stream",
     "text": [
      "c:\\Users\\disrct\\AppData\\Local\\Programs\\Python\\Python312\\Lib\\site-packages\\google\\protobuf\\symbol_database.py:55: UserWarning: SymbolDatabase.GetPrototype() is deprecated. Please use message_factory.GetMessageClass() instead. SymbolDatabase.GetPrototype() will be removed soon.\n",
      "  warnings.warn('SymbolDatabase.GetPrototype() is deprecated. Please '\n",
      "c:\\Users\\disrct\\AppData\\Local\\Programs\\Python\\Python312\\Lib\\site-packages\\sklearn\\base.py:493: UserWarning: X does not have valid feature names, but SGDClassifier was fitted with feature names\n",
      "  warnings.warn(\n"
     ]
    }
   ],
   "source": [
    "# Get the model and load it\n",
    "model_file = \"model-svm.pkl\"\n",
    "load_model = joblib.load(model_file)\n",
    "\n",
    "label_file = \"label-encoder.pkl\"\n",
    "encoder = joblib.load(label_file)\n",
    "\n",
    "# Inicialize o MediaPipe Hands\n",
    "mp_hands = mp.solutions.hands\n",
    "hands = mp_hands.Hands(static_image_mode=False, max_num_hands=1, min_detection_confidence=0.5, min_tracking_confidence=0.5)\n",
    "\n",
    "# Function to extract landmarks from a new image and make prediction\n",
    "def predict_letter(image_path, model):\n",
    "    \n",
    "    image = cv2.imread(image_path)\n",
    "    \n",
    "    if image is None:\n",
    "        return None\n",
    "\n",
    "    # Process image to get the landmarks\n",
    "    results = hands.process(cv2.cvtColor(image, cv2.COLOR_BGR2RGB))\n",
    "\n",
    "    # Known if the hand is detected\n",
    "    if results.multi_hand_landmarks:\n",
    "        \n",
    "        # Extract the landmarks\n",
    "        landmarks = results.multi_hand_landmarks[0]\n",
    "\n",
    "        # Format the coordinates\n",
    "        landmark_data = [coord for lm in landmarks.landmark for coord in (lm.x, lm.y)]\n",
    "        \n",
    "        # Make prediction with the model\n",
    "        prediction = model.predict([landmark_data])\n",
    "        \n",
    "        predicted_letter = encoder.inverse_transform(prediction)\n",
    "        \n",
    "        return predicted_letter[0]  # Retorna a letra prevista\n",
    "    else:\n",
    "        return \"Error: There's no hand on the image\"\n",
    "\n",
    "image_path = get_img()\n",
    "predicted_letter = predict_letter(image_path, load_model)\n",
    "print(f\"The predicted letter is: {predicted_letter}\")\n"
   ]
  }
 ],
 "metadata": {
  "kernelspec": {
   "display_name": "Python 3",
   "language": "python",
   "name": "python3"
  },
  "language_info": {
   "codemirror_mode": {
    "name": "ipython",
    "version": 3
   },
   "file_extension": ".py",
   "mimetype": "text/x-python",
   "name": "python",
   "nbconvert_exporter": "python",
   "pygments_lexer": "ipython3",
   "version": "3.12.1"
  }
 },
 "nbformat": 4,
 "nbformat_minor": 2
}
