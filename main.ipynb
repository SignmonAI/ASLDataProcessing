{
 "cells": [
  {
   "cell_type": "code",
   "execution_count": 18,
   "metadata": {},
   "outputs": [],
   "source": [
    "import cv2, os"
   ]
  },
  {
   "cell_type": "code",
   "execution_count": 19,
   "metadata": {},
   "outputs": [],
   "source": [
    "target_directory = 'asl_alphabet_train' \n",
    "outuput_directory = 'training_images'"
   ]
  },
  {
   "cell_type": "code",
   "execution_count": 20,
   "metadata": {},
   "outputs": [],
   "source": [
    "os.makedirs(outuput_directory, exist_ok=True)"
   ]
  },
  {
   "cell_type": "code",
   "execution_count": 21,
   "metadata": {},
   "outputs": [],
   "source": [
    "for letter_folder in os.listdir(target_directory):\n",
    "    letter_path = os.path.join(target_directory, letter_folder)\n",
    "    \n",
    "    if os.path.isdir(letter_path):\n",
    "        for image_file in os.listdir(letter_path):\n",
    "            image_path = os.path.join(letter_path, image_file)\n",
    "            \n",
    "            try:\n",
    "                image = cv2.imread(image_path)\n",
    "                if image is not None:\n",
    "                    gray_image = cv2.cvtColor(image, cv2.COLOR_BGR2GRAY)\n",
    "                    \n",
    "                    output_path = os.path.join(outuput_directory, letter_folder)\n",
    "                    os.makedirs(output_path, exist_ok=True)\n",
    "                    \n",
    "                    gray_image_path = os.path.join(output_path, image_file)\n",
    "                    cv2.imwrite(gray_image_path, gray_image)\n",
    "                    \n",
    "                    \n",
    "            except Exception as e:\n",
    "                print(f\"Erro ao abrir a imagem {image_path} : {e}\")\n"
   ]
  }
 ],
 "metadata": {
  "kernelspec": {
   "display_name": ".venv",
   "language": "python",
   "name": "python3"
  },
  "language_info": {
   "codemirror_mode": {
    "name": "ipython",
    "version": 3
   },
   "file_extension": ".py",
   "mimetype": "text/x-python",
   "name": "python",
   "nbconvert_exporter": "python",
   "pygments_lexer": "ipython3",
   "version": "3.12.1"
  }
 },
 "nbformat": 4,
 "nbformat_minor": 2
}
