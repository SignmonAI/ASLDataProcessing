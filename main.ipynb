{
 "cells": [
  {
   "cell_type": "code",
   "execution_count": 32,
   "metadata": {},
   "outputs": [],
   "source": [
    "import cv2, os, numpy as np"
   ]
  },
  {
   "cell_type": "code",
   "execution_count": 33,
   "metadata": {},
   "outputs": [],
   "source": [
    "target_directory = 'FullDataset' \n",
    "output_directory = 'TrainingImages'"
   ]
  },
  {
   "cell_type": "code",
   "execution_count": 34,
   "metadata": {},
   "outputs": [],
   "source": [
    "os.makedirs(output_directory, exist_ok=True)"
   ]
  },
  {
   "cell_type": "code",
   "execution_count": null,
   "metadata": {},
   "outputs": [],
   "source": [
    "import cv2\n",
    "import numpy as np\n",
    "import os\n",
    "\n",
    "def transformar_para_quadrada(imagem, tamanho_final):\n",
    "    # Obter as dimensões da imagem\n",
    "    altura, largura = imagem.shape[:2]\n",
    "\n",
    "    # Calcular o tamanho do quadrado\n",
    "    lado_quadrado = max(altura, largura)\n",
    "\n",
    "    # Criar uma nova imagem quadrada com fundo preto\n",
    "    imagem_quadrada = np.zeros((lado_quadrado, lado_quadrado, 3), dtype=np.uint8)\n",
    "\n",
    "    # Colocar a imagem original no centro da nova imagem quadrada\n",
    "    y_offset = (lado_quadrado - altura) // 2\n",
    "    x_offset = (lado_quadrado - largura) // 2\n",
    "    \n",
    "    # Converter a imagem em escala de cinza para 3 canais\n",
    "    imagem_colorida = cv2.cvtColor(imagem, cv2.COLOR_GRAY2BGR)\n",
    "    imagem_quadrada[y_offset:y_offset + altura, x_offset:x_offset + largura] = imagem_colorida\n",
    "\n",
    "    # Redimensionar para o tamanho final desejado\n",
    "    imagem_quadrada = cv2.resize(imagem_quadrada, (tamanho_final, tamanho_final), interpolation=cv2.INTER_CUBIC)\n",
    "\n",
    "    return imagem_quadrada\n",
    "\n",
    "for letter_folder in os.listdir(target_directory):\n",
    "    letter_path = os.path.join(target_directory, letter_folder)\n",
    "    \n",
    "    if os.path.isdir(letter_path):\n",
    "        for image_file in os.listdir(letter_path):\n",
    "            image_path = os.path.join(letter_path, image_file)\n",
    "            \n",
    "            try:\n",
    "                image = cv2.imread(image_path)\n",
    "                if image is not None:\n",
    "                    gray_image = cv2.cvtColor(image, cv2.COLOR_BGR2GRAY)\n",
    "                    imagem_final = transformar_para_quadrada(gray_image, 512)\n",
    "                    \n",
    "                    largura_borda = 10  # ajuste conforme necessário\n",
    "                    imagem_com_borda = cv2.copyMakeBorder(\n",
    "                        imagem_final,\n",
    "                        largura_borda,\n",
    "                        largura_borda,\n",
    "                        largura_borda,\n",
    "                        largura_borda,\n",
    "                        cv2.BORDER_CONSTANT,\n",
    "                        value=[0, 0, 0]  # cor da borda (preto, por exemplo)\n",
    "                    )\n",
    "\n",
    "                    # Garantir que a imagem final não ultrapasse 512x512\n",
    "                    imagem_com_borda = cv2.resize(imagem_com_borda, (512, 512), interpolation=cv2.INTER_CUBIC)\n",
    "                                        \n",
    "                    output_path = os.path.join(output_directory, letter_folder)\n",
    "                    os.makedirs(output_path, exist_ok=True)\n",
    "                    \n",
    "                    gray_image_path = os.path.join(output_path, image_file)\n",
    "                    cv2.imwrite(gray_image_path, imagem_com_borda)\n",
    "       \n",
    "            except Exception as e:\n",
    "                print(f\"Erro ao abrir a imagem {image_path} : {e}\")\n"
   ]
  }
 ],
 "metadata": {
  "kernelspec": {
   "display_name": "Python 3",
   "language": "python",
   "name": "python3"
  },
  "language_info": {
   "codemirror_mode": {
    "name": "ipython",
    "version": 3
   },
   "file_extension": ".py",
   "mimetype": "text/x-python",
   "name": "python",
   "nbconvert_exporter": "python",
   "pygments_lexer": "ipython3",
   "version": "3.12.1"
  }
 },
 "nbformat": 4,
 "nbformat_minor": 2
}
